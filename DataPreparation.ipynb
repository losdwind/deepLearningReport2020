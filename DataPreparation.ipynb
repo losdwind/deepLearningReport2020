{
  "nbformat": 4,
  "nbformat_minor": 0,
  "metadata": {
    "kernelspec": {
      "display_name": "Python 3",
      "language": "python",
      "name": "python3"
    },
    "language_info": {
      "codemirror_mode": {
        "name": "ipython",
        "version": 3
      },
      "file_extension": ".py",
      "mimetype": "text/x-python",
      "name": "python",
      "nbconvert_exporter": "python",
      "pygments_lexer": "ipython3",
      "version": "3.7.4"
    },
    "toc": {
      "base_numbering": 1,
      "nav_menu": {},
      "number_sections": true,
      "sideBar": true,
      "skip_h1_title": false,
      "title_cell": "Table of Contents",
      "title_sidebar": "Contents",
      "toc_cell": false,
      "toc_position": {},
      "toc_section_display": true,
      "toc_window_display": false
    },
    "colab": {
      "name": "DataPreparation.ipynb",
      "provenance": [],
      "toc_visible": true
    }
  },
  "cells": [
    {
      "cell_type": "code",
      "metadata": {
        "ExecuteTime": {
          "end_time": "2019-10-19T13:37:26.476958Z",
          "start_time": "2019-10-19T13:37:21.712388Z"
        },
        "id": "bhM1rWq8SbHX"
      },
      "source": [
        "%matplotlib inline\n",
        "import pandas as pd\n",
        "import numpy as np\n",
        "import matplotlib.pyplot as plt\n",
        "import time\n",
        "import datetime\n",
        "import sys\n",
        "np.set_printoptions(suppress=True, threshold= sys.maxsize)"
      ],
      "execution_count": null,
      "outputs": []
    },
    {
      "cell_type": "markdown",
      "metadata": {
        "id": "MYeRIGbXSbHh"
      },
      "source": [
        "## Descriptive Analysis"
      ]
    },
    {
      "cell_type": "markdown",
      "metadata": {
        "id": "DjzqnvPOSbHh"
      },
      "source": [
        "Mode:\n",
        "0. BUS\n",
        "1. Train & Subway\n",
        "2. Walk & Run\n",
        "3. Car & Taxi & Motocycle\n",
        "4. Airplane\n",
        "5. Bike\n",
        "6. Boat\n",
        "100. Others"
      ]
    },
    {
      "cell_type": "markdown",
      "metadata": {
        "id": "RSg21vR8SbHi"
      },
      "source": [
        "The issue in the data:\n",
        "1. altitude range\n",
        "2. mode number 100?"
      ]
    },
    {
      "cell_type": "code",
      "metadata": {
        "ExecuteTime": {
          "end_time": "2019-10-19T13:37:26.949381Z",
          "start_time": "2019-10-19T13:37:26.931430Z"
        },
        "id": "SHwmrrfBSbHi",
        "outputId": "728c89f4-4fbb-4b06-f8b7-da39f1d30e0c"
      },
      "source": [
        "%%script false \n",
        "import os\n",
        "data =np.empty((1,1,6))\n",
        "for path,directory,file in os.walk('numpyL/user'):  \n",
        "    for name in file:\n",
        "        user = np.load('numpyL/user/' + name)\n",
        "        data = np.vstack((data, user))"
      ],
      "execution_count": null,
      "outputs": [
        {
          "output_type": "stream",
          "text": [
            "Couldn't find program: 'false'\n"
          ],
          "name": "stdout"
        }
      ]
    },
    {
      "cell_type": "code",
      "metadata": {
        "ExecuteTime": {
          "end_time": "2019-10-19T13:37:26.594367Z",
          "start_time": "2019-10-19T13:37:26.478641Z"
        },
        "scrolled": true,
        "colab": {
          "base_uri": "https://localhost:8080/",
          "height": 368
        },
        "id": "f5euqLEDSbHk",
        "outputId": "f2814f2f-20ad-4637-c2c9-27e1c597f0ac"
      },
      "source": [
        "user_1 = np.load(\"numpyL/labelled_user_1.npy\")\n",
        "data = pd.DataFrame(user_1, columns = ['user_id', 'latitude','longitude', 'altitude','timestamp', 'mode']).astype({'user_id':'int64', 'latitude':'float64','longitude':'float64', 'altitude':'float64','timestamp':'int64', 'mode':'int64'} )\n",
        "assert sum(data['altitude'] == -777) == 0 # no missing value in altitude\n",
        "data.describe()"
      ],
      "execution_count": null,
      "outputs": [
        {
          "output_type": "error",
          "ename": "FileNotFoundError",
          "evalue": "ignored",
          "traceback": [
            "\u001b[0;31m---------------------------------------------------------------------------\u001b[0m",
            "\u001b[0;31mFileNotFoundError\u001b[0m                         Traceback (most recent call last)",
            "\u001b[0;32m<ipython-input-5-98e9e4aaf9cf>\u001b[0m in \u001b[0;36m<module>\u001b[0;34m()\u001b[0m\n\u001b[0;32m----> 1\u001b[0;31m \u001b[0muser_1\u001b[0m \u001b[0;34m=\u001b[0m \u001b[0mnp\u001b[0m\u001b[0;34m.\u001b[0m\u001b[0mload\u001b[0m\u001b[0;34m(\u001b[0m\u001b[0;34m\"numpyL/labelled_user_1.npy\"\u001b[0m\u001b[0;34m)\u001b[0m\u001b[0;34m\u001b[0m\u001b[0;34m\u001b[0m\u001b[0m\n\u001b[0m\u001b[1;32m      2\u001b[0m \u001b[0mdata\u001b[0m \u001b[0;34m=\u001b[0m \u001b[0mpd\u001b[0m\u001b[0;34m.\u001b[0m\u001b[0mDataFrame\u001b[0m\u001b[0;34m(\u001b[0m\u001b[0muser_1\u001b[0m\u001b[0;34m,\u001b[0m \u001b[0mcolumns\u001b[0m \u001b[0;34m=\u001b[0m \u001b[0;34m[\u001b[0m\u001b[0;34m'user_id'\u001b[0m\u001b[0;34m,\u001b[0m \u001b[0;34m'latitude'\u001b[0m\u001b[0;34m,\u001b[0m\u001b[0;34m'longitude'\u001b[0m\u001b[0;34m,\u001b[0m \u001b[0;34m'altitude'\u001b[0m\u001b[0;34m,\u001b[0m\u001b[0;34m'timestamp'\u001b[0m\u001b[0;34m,\u001b[0m \u001b[0;34m'mode'\u001b[0m\u001b[0;34m]\u001b[0m\u001b[0;34m)\u001b[0m\u001b[0;34m.\u001b[0m\u001b[0mastype\u001b[0m\u001b[0;34m(\u001b[0m\u001b[0;34m{\u001b[0m\u001b[0;34m'user_id'\u001b[0m\u001b[0;34m:\u001b[0m\u001b[0;34m'int64'\u001b[0m\u001b[0;34m,\u001b[0m \u001b[0;34m'latitude'\u001b[0m\u001b[0;34m:\u001b[0m\u001b[0;34m'float64'\u001b[0m\u001b[0;34m,\u001b[0m\u001b[0;34m'longitude'\u001b[0m\u001b[0;34m:\u001b[0m\u001b[0;34m'float64'\u001b[0m\u001b[0;34m,\u001b[0m \u001b[0;34m'altitude'\u001b[0m\u001b[0;34m:\u001b[0m\u001b[0;34m'float64'\u001b[0m\u001b[0;34m,\u001b[0m\u001b[0;34m'timestamp'\u001b[0m\u001b[0;34m:\u001b[0m\u001b[0;34m'int64'\u001b[0m\u001b[0;34m,\u001b[0m \u001b[0;34m'mode'\u001b[0m\u001b[0;34m:\u001b[0m\u001b[0;34m'int64'\u001b[0m\u001b[0;34m}\u001b[0m \u001b[0;34m)\u001b[0m\u001b[0;34m\u001b[0m\u001b[0;34m\u001b[0m\u001b[0m\n\u001b[1;32m      3\u001b[0m \u001b[0;32massert\u001b[0m \u001b[0msum\u001b[0m\u001b[0;34m(\u001b[0m\u001b[0mdata\u001b[0m\u001b[0;34m[\u001b[0m\u001b[0;34m'altitude'\u001b[0m\u001b[0;34m]\u001b[0m \u001b[0;34m==\u001b[0m \u001b[0;34m-\u001b[0m\u001b[0;36m777\u001b[0m\u001b[0;34m)\u001b[0m \u001b[0;34m==\u001b[0m \u001b[0;36m0\u001b[0m \u001b[0;31m# no missing value in altitude\u001b[0m\u001b[0;34m\u001b[0m\u001b[0;34m\u001b[0m\u001b[0m\n\u001b[1;32m      4\u001b[0m \u001b[0mdata\u001b[0m\u001b[0;34m.\u001b[0m\u001b[0mdescribe\u001b[0m\u001b[0;34m(\u001b[0m\u001b[0;34m)\u001b[0m\u001b[0;34m\u001b[0m\u001b[0;34m\u001b[0m\u001b[0m\n",
            "\u001b[0;32m/usr/local/lib/python3.6/dist-packages/numpy/lib/npyio.py\u001b[0m in \u001b[0;36mload\u001b[0;34m(file, mmap_mode, allow_pickle, fix_imports, encoding)\u001b[0m\n\u001b[1;32m    414\u001b[0m             \u001b[0mown_fid\u001b[0m \u001b[0;34m=\u001b[0m \u001b[0;32mFalse\u001b[0m\u001b[0;34m\u001b[0m\u001b[0;34m\u001b[0m\u001b[0m\n\u001b[1;32m    415\u001b[0m         \u001b[0;32melse\u001b[0m\u001b[0;34m:\u001b[0m\u001b[0;34m\u001b[0m\u001b[0;34m\u001b[0m\u001b[0m\n\u001b[0;32m--> 416\u001b[0;31m             \u001b[0mfid\u001b[0m \u001b[0;34m=\u001b[0m \u001b[0mstack\u001b[0m\u001b[0;34m.\u001b[0m\u001b[0menter_context\u001b[0m\u001b[0;34m(\u001b[0m\u001b[0mopen\u001b[0m\u001b[0;34m(\u001b[0m\u001b[0mos_fspath\u001b[0m\u001b[0;34m(\u001b[0m\u001b[0mfile\u001b[0m\u001b[0;34m)\u001b[0m\u001b[0;34m,\u001b[0m \u001b[0;34m\"rb\"\u001b[0m\u001b[0;34m)\u001b[0m\u001b[0;34m)\u001b[0m\u001b[0;34m\u001b[0m\u001b[0;34m\u001b[0m\u001b[0m\n\u001b[0m\u001b[1;32m    417\u001b[0m             \u001b[0mown_fid\u001b[0m \u001b[0;34m=\u001b[0m \u001b[0;32mTrue\u001b[0m\u001b[0;34m\u001b[0m\u001b[0;34m\u001b[0m\u001b[0m\n\u001b[1;32m    418\u001b[0m \u001b[0;34m\u001b[0m\u001b[0m\n",
            "\u001b[0;31mFileNotFoundError\u001b[0m: [Errno 2] No such file or directory: 'numpyL/labelled_user_1.npy'"
          ]
        }
      ]
    },
    {
      "cell_type": "code",
      "metadata": {
        "id": "vQHPigy5XZoJ"
      },
      "source": [
        "from google.colab import drive\n",
        "drive.mount('/content/drive')"
      ],
      "execution_count": null,
      "outputs": []
    },
    {
      "cell_type": "markdown",
      "metadata": {
        "id": "u5wLU5JYSbHk"
      },
      "source": [
        "<span class=\"burk\">Webmercator</span>\n"
      ]
    },
    {
      "cell_type": "code",
      "metadata": {
        "ExecuteTime": {
          "end_time": "2019-10-19T13:37:26.606306Z",
          "start_time": "2019-10-19T13:37:26.597327Z"
        },
        "colab": {
          "base_uri": "https://localhost:8080/",
          "height": 164
        },
        "id": "XAEHKTyXSbHl",
        "outputId": "1c994a59-d69e-455b-9b89-f1a1ba34621a"
      },
      "source": [
        "data.dtypes"
      ],
      "execution_count": null,
      "outputs": [
        {
          "output_type": "error",
          "ename": "NameError",
          "evalue": "ignored",
          "traceback": [
            "\u001b[0;31m---------------------------------------------------------------------------\u001b[0m",
            "\u001b[0;31mNameError\u001b[0m                                 Traceback (most recent call last)",
            "\u001b[0;32m<ipython-input-2-6226a73926db>\u001b[0m in \u001b[0;36m<module>\u001b[0;34m()\u001b[0m\n\u001b[0;32m----> 1\u001b[0;31m \u001b[0mdata\u001b[0m\u001b[0;34m.\u001b[0m\u001b[0mdtypes\u001b[0m\u001b[0;34m\u001b[0m\u001b[0;34m\u001b[0m\u001b[0m\n\u001b[0m",
            "\u001b[0;31mNameError\u001b[0m: name 'data' is not defined"
          ]
        }
      ]
    },
    {
      "cell_type": "code",
      "metadata": {
        "ExecuteTime": {
          "end_time": "2019-10-19T13:37:26.624256Z",
          "start_time": "2019-10-19T13:37:26.609302Z"
        },
        "colab": {
          "base_uri": "https://localhost:8080/",
          "height": 164
        },
        "id": "rzTK8Et4SbHl",
        "outputId": "7000259c-d954-4e67-e290-0e7b561ebbfa"
      },
      "source": [
        "data.head(5)"
      ],
      "execution_count": null,
      "outputs": [
        {
          "output_type": "error",
          "ename": "NameError",
          "evalue": "ignored",
          "traceback": [
            "\u001b[0;31m---------------------------------------------------------------------------\u001b[0m",
            "\u001b[0;31mNameError\u001b[0m                                 Traceback (most recent call last)",
            "\u001b[0;32m<ipython-input-1-80c7d069447b>\u001b[0m in \u001b[0;36m<module>\u001b[0;34m()\u001b[0m\n\u001b[0;32m----> 1\u001b[0;31m \u001b[0mdata\u001b[0m\u001b[0;34m.\u001b[0m\u001b[0mhead\u001b[0m\u001b[0;34m(\u001b[0m\u001b[0;36m5\u001b[0m\u001b[0;34m)\u001b[0m\u001b[0;34m\u001b[0m\u001b[0;34m\u001b[0m\u001b[0m\n\u001b[0m",
            "\u001b[0;31mNameError\u001b[0m: name 'data' is not defined"
          ]
        }
      ]
    },
    {
      "cell_type": "code",
      "metadata": {
        "ExecuteTime": {
          "end_time": "2019-10-19T13:37:26.910531Z",
          "start_time": "2019-10-19T13:37:26.626245Z"
        },
        "id": "nU4QHr18SbHm",
        "outputId": "5a897e27-c7ca-4506-a137-e63244ea7064"
      },
      "source": [
        "label_1 = np.load(\"numpyL/labels4user_1.npy\")\n",
        "label = pd.DataFrame(label_1, columns = ['user_id', 'time_left','time_right', 'mode']).astype({'user_id':'int64', 'time_left':'int64','time_right':'int64', 'mode':'int64'})\n",
        "plt.hist(label['mode'], bins = np.linspace(-0.5, 4.5,6))\n",
        "plt.show\n",
        "label.describe()"
      ],
      "execution_count": null,
      "outputs": [
        {
          "output_type": "execute_result",
          "data": {
            "text/html": [
              "<div>\n",
              "<style scoped>\n",
              "    .dataframe tbody tr th:only-of-type {\n",
              "        vertical-align: middle;\n",
              "    }\n",
              "\n",
              "    .dataframe tbody tr th {\n",
              "        vertical-align: top;\n",
              "    }\n",
              "\n",
              "    .dataframe thead th {\n",
              "        text-align: right;\n",
              "    }\n",
              "</style>\n",
              "<table border=\"1\" class=\"dataframe\">\n",
              "  <thead>\n",
              "    <tr style=\"text-align: right;\">\n",
              "      <th></th>\n",
              "      <th>user_id</th>\n",
              "      <th>time_left</th>\n",
              "      <th>time_right</th>\n",
              "      <th>mode</th>\n",
              "    </tr>\n",
              "  </thead>\n",
              "  <tbody>\n",
              "    <tr>\n",
              "      <td>count</td>\n",
              "      <td>425.0</td>\n",
              "      <td>4.250000e+02</td>\n",
              "      <td>4.250000e+02</td>\n",
              "      <td>425.000000</td>\n",
              "    </tr>\n",
              "    <tr>\n",
              "      <td>mean</td>\n",
              "      <td>1.0</td>\n",
              "      <td>1.217278e+09</td>\n",
              "      <td>1.217282e+09</td>\n",
              "      <td>1.675294</td>\n",
              "    </tr>\n",
              "    <tr>\n",
              "      <td>std</td>\n",
              "      <td>0.0</td>\n",
              "      <td>3.696119e+06</td>\n",
              "      <td>3.696117e+06</td>\n",
              "      <td>8.375784</td>\n",
              "    </tr>\n",
              "    <tr>\n",
              "      <td>min</td>\n",
              "      <td>1.0</td>\n",
              "      <td>1.211269e+09</td>\n",
              "      <td>1.211270e+09</td>\n",
              "      <td>0.000000</td>\n",
              "    </tr>\n",
              "    <tr>\n",
              "      <td>25%</td>\n",
              "      <td>1.0</td>\n",
              "      <td>1.214369e+09</td>\n",
              "      <td>1.214369e+09</td>\n",
              "      <td>0.000000</td>\n",
              "    </tr>\n",
              "    <tr>\n",
              "      <td>50%</td>\n",
              "      <td>1.0</td>\n",
              "      <td>1.216710e+09</td>\n",
              "      <td>1.216711e+09</td>\n",
              "      <td>0.000000</td>\n",
              "    </tr>\n",
              "    <tr>\n",
              "      <td>75%</td>\n",
              "      <td>1.0</td>\n",
              "      <td>1.221018e+09</td>\n",
              "      <td>1.221021e+09</td>\n",
              "      <td>2.000000</td>\n",
              "    </tr>\n",
              "    <tr>\n",
              "      <td>max</td>\n",
              "      <td>1.0</td>\n",
              "      <td>1.223637e+09</td>\n",
              "      <td>1.223638e+09</td>\n",
              "      <td>100.000000</td>\n",
              "    </tr>\n",
              "  </tbody>\n",
              "</table>\n",
              "</div>"
            ],
            "text/plain": [
              "       user_id     time_left    time_right        mode\n",
              "count    425.0  4.250000e+02  4.250000e+02  425.000000\n",
              "mean       1.0  1.217278e+09  1.217282e+09    1.675294\n",
              "std        0.0  3.696119e+06  3.696117e+06    8.375784\n",
              "min        1.0  1.211269e+09  1.211270e+09    0.000000\n",
              "25%        1.0  1.214369e+09  1.214369e+09    0.000000\n",
              "50%        1.0  1.216710e+09  1.216711e+09    0.000000\n",
              "75%        1.0  1.221018e+09  1.221021e+09    2.000000\n",
              "max        1.0  1.223637e+09  1.223638e+09  100.000000"
            ]
          },
          "metadata": {
            "tags": []
          },
          "execution_count": 5
        },
        {
          "output_type": "display_data",
          "data": {
            "image/png": "[encoded data removed]",
            "text/plain": [
              "<Figure size 432x288 with 1 Axes>"
            ]
          },
          "metadata": {
            "tags": [],
            "needs_background": "light"
          }
        }
      ]
    },
    {
      "cell_type": "code",
      "metadata": {
        "ExecuteTime": {
          "end_time": "2019-10-19T13:37:26.928439Z",
          "start_time": "2019-10-19T13:37:26.914475Z"
        },
        "id": "1BLX-qNoSbHm",
        "outputId": "1be60fd0-d168-4c4c-d3ef-27dd39c9181c"
      },
      "source": [
        "label.head(10)"
      ],
      "execution_count": null,
      "outputs": [
        {
          "output_type": "execute_result",
          "data": {
            "text/html": [
              "<div>\n",
              "<style scoped>\n",
              "    .dataframe tbody tr th:only-of-type {\n",
              "        vertical-align: middle;\n",
              "    }\n",
              "\n",
              "    .dataframe tbody tr th {\n",
              "        vertical-align: top;\n",
              "    }\n",
              "\n",
              "    .dataframe thead th {\n",
              "        text-align: right;\n",
              "    }\n",
              "</style>\n",
              "<table border=\"1\" class=\"dataframe\">\n",
              "  <thead>\n",
              "    <tr style=\"text-align: right;\">\n",
              "      <th></th>\n",
              "      <th>user_id</th>\n",
              "      <th>time_left</th>\n",
              "      <th>time_right</th>\n",
              "      <th>mode</th>\n",
              "    </tr>\n",
              "  </thead>\n",
              "  <tbody>\n",
              "    <tr>\n",
              "      <td>0</td>\n",
              "      <td>1</td>\n",
              "      <td>1211269140</td>\n",
              "      <td>1211270160</td>\n",
              "      <td>0</td>\n",
              "    </tr>\n",
              "    <tr>\n",
              "      <td>1</td>\n",
              "      <td>1</td>\n",
              "      <td>1211278500</td>\n",
              "      <td>1211279100</td>\n",
              "      <td>0</td>\n",
              "    </tr>\n",
              "    <tr>\n",
              "      <td>2</td>\n",
              "      <td>1</td>\n",
              "      <td>1211279100</td>\n",
              "      <td>1211285700</td>\n",
              "      <td>2</td>\n",
              "    </tr>\n",
              "    <tr>\n",
              "      <td>3</td>\n",
              "      <td>1</td>\n",
              "      <td>1211285700</td>\n",
              "      <td>1211286180</td>\n",
              "      <td>3</td>\n",
              "    </tr>\n",
              "    <tr>\n",
              "      <td>4</td>\n",
              "      <td>1</td>\n",
              "      <td>1211333040</td>\n",
              "      <td>1211333700</td>\n",
              "      <td>0</td>\n",
              "    </tr>\n",
              "    <tr>\n",
              "      <td>5</td>\n",
              "      <td>1</td>\n",
              "      <td>1211333700</td>\n",
              "      <td>1211347500</td>\n",
              "      <td>2</td>\n",
              "    </tr>\n",
              "    <tr>\n",
              "      <td>6</td>\n",
              "      <td>1</td>\n",
              "      <td>1211347560</td>\n",
              "      <td>1211348100</td>\n",
              "      <td>0</td>\n",
              "    </tr>\n",
              "    <tr>\n",
              "      <td>7</td>\n",
              "      <td>1</td>\n",
              "      <td>1211357400</td>\n",
              "      <td>1211358960</td>\n",
              "      <td>0</td>\n",
              "    </tr>\n",
              "    <tr>\n",
              "      <td>8</td>\n",
              "      <td>1</td>\n",
              "      <td>1211358960</td>\n",
              "      <td>1211361900</td>\n",
              "      <td>1</td>\n",
              "    </tr>\n",
              "    <tr>\n",
              "      <td>9</td>\n",
              "      <td>1</td>\n",
              "      <td>1211361900</td>\n",
              "      <td>1211366100</td>\n",
              "      <td>2</td>\n",
              "    </tr>\n",
              "  </tbody>\n",
              "</table>\n",
              "</div>"
            ],
            "text/plain": [
              "   user_id   time_left  time_right  mode\n",
              "0        1  1211269140  1211270160     0\n",
              "1        1  1211278500  1211279100     0\n",
              "2        1  1211279100  1211285700     2\n",
              "3        1  1211285700  1211286180     3\n",
              "4        1  1211333040  1211333700     0\n",
              "5        1  1211333700  1211347500     2\n",
              "6        1  1211347560  1211348100     0\n",
              "7        1  1211357400  1211358960     0\n",
              "8        1  1211358960  1211361900     1\n",
              "9        1  1211361900  1211366100     2"
            ]
          },
          "metadata": {
            "tags": []
          },
          "execution_count": 6
        }
      ]
    },
    {
      "cell_type": "markdown",
      "metadata": {
        "id": "zzlsDUSfSbHn"
      },
      "source": [
        "## Data Transformation"
      ]
    },
    {
      "cell_type": "markdown",
      "metadata": {
        "id": "fDxiMwo4SbHn"
      },
      "source": [
        "- Trip. if the time interval between two consecutive GPS points exceeds a pre-defined threshold\n",
        "- Segement. if the mode changes in a trip"
      ]
    },
    {
      "cell_type": "markdown",
      "metadata": {
        "ExecuteTime": {
          "end_time": "2019-10-14T16:50:56.988102Z",
          "start_time": "2019-10-14T16:50:56.983146Z"
        },
        "id": "67ZyZdGPSbHn"
      },
      "source": [
        "### Data Clean"
      ]
    },
    {
      "cell_type": "markdown",
      "metadata": {
        "ExecuteTime": {
          "end_time": "2019-10-14T16:51:14.964051Z",
          "start_time": "2019-10-14T16:51:14.951054Z"
        },
        "id": "3K5oG8aFSbHn"
      },
      "source": [
        "- The GPS data points with the timestamp greater than their next GPS point are identified and discarded.\n",
        "- Considering a maximum threshold speed for each transport mode, provided in Table 2, the invalid GPS points with an unrealistic large speed are discarded.\n",
        "- Considering a maximum threshold acceleration for each transport mode, provided in Table 2, the invalid GPS points with an unrealistic large acceleration are discarded.\n",
        "- After removing the unrealistic GPS points, the segments with the number of GPS points less than a threshold are identified and discarded.\n",
        "\n",
        "We conduct the fist data cleaning."
      ]
    },
    {
      "cell_type": "markdown",
      "metadata": {
        "id": "ndqTpzlpSbHo"
      },
      "source": [
        "#### split into trips\n",
        "I first split the data into trips according to increasing monotony. This methods results in two side effects:\n",
        "1. one trip contains multiple subtrip whose timestamp is increasing but the time gap is huge between certain records, i.e. merges two different trips into one.\n",
        "2. can not show the timestamp outlier explicity.\n",
        "\n",
        "But we can see what is going on."
      ]
    },
    {
      "cell_type": "code",
      "metadata": {
        "ExecuteTime": {
          "end_time": "2019-10-19T13:37:26.961352Z",
          "start_time": "2019-10-19T13:37:26.951377Z"
        },
        "id": "uWxoKClgSbHo",
        "outputId": "73e31c2e-0bd1-493e-db4e-649e76b77d92"
      },
      "source": [
        "%%script false \n",
        "trips = []\n",
        "i = 0\n",
        "for j in range(1, data.shape[0]):\n",
        "    if data['timestamp'][j] > data['timestamp'][j-1] :\n",
        "        continue\n",
        "    trips.append(data[i:j])\n",
        "    i = j"
      ],
      "execution_count": null,
      "outputs": [
        {
          "output_type": "stream",
          "text": [
            "Couldn't find program: 'false'\n"
          ],
          "name": "stdout"
        }
      ]
    },
    {
      "cell_type": "code",
      "metadata": {
        "ExecuteTime": {
          "end_time": "2019-10-19T13:37:26.978304Z",
          "start_time": "2019-10-19T13:37:26.968348Z"
        },
        "id": "Fh3z_zW1SbHp",
        "outputId": "3d9b021f-f6de-4b7b-e90f-0bb21841d2e3"
      },
      "source": [
        "%%script false \n",
        "for ind, val in enumerate(trips):\n",
        "    print('num fo records:{:10d}\\t timespan:{:10.3f} h'.format(len(val), (val['timestamp'].values[-1] - val['timestamp'].values[0])/3600), end = '\\t')\n",
        "    if ind > 0 :\n",
        "        print('timespan (successive split):{:10.3f} h'.format((trips[ind]['timestamp'].values[0] - trips[ind-1]['timestamp'].values[-1])/3600))\n",
        "    else:\n",
        "        print()\n",
        "    assert val['timestamp'].is_monotonic"
      ],
      "execution_count": null,
      "outputs": [
        {
          "output_type": "stream",
          "text": [
            "Couldn't find program: 'false'\n"
          ],
          "name": "stdout"
        }
      ]
    },
    {
      "cell_type": "markdown",
      "metadata": {
        "id": "Vm-oiWUNSbHq"
      },
      "source": [
        "The first trip has 828 records, but the time span of these records are 1265 hours. Therefore, they are probably merged trips.\n",
        "\n",
        "The number of records of each trip are all larger than 100, therefore, it might not be possible that there is a single outlier whose timestamp is quite abnormal compared with its former and latter record.\n",
        "\n",
        "The time spans between two successive trip are always negative. It means that the trips are overlapped and unsorted."
      ]
    },
    {
      "cell_type": "markdown",
      "metadata": {
        "id": "Vq9Y_nAlSbHr"
      },
      "source": [
        "#### split into segement"
      ]
    },
    {
      "cell_type": "code",
      "metadata": {
        "ExecuteTime": {
          "end_time": "2019-10-19T13:37:26.992267Z",
          "start_time": "2019-10-19T13:37:26.980298Z"
        },
        "scrolled": true,
        "id": "h3IITuvGSbHr",
        "outputId": "c075a833-69f5-45a8-f286-ef44e702aeb4"
      },
      "source": [
        "%%script false \n",
        "segements = []\n",
        "for trip in trips:\n",
        "    i = 0\n",
        "    for j in range(1, len(trip)):\n",
        "        if trip['mode'].values[j] == trip['mode'].values[j-1]:\n",
        "            continue\n",
        "        segements.append(trip[i:j])\n",
        "        i = j\n",
        "print(len(segements))"
      ],
      "execution_count": null,
      "outputs": [
        {
          "output_type": "stream",
          "text": [
            "Couldn't find program: 'false'\n"
          ],
          "name": "stdout"
        }
      ]
    },
    {
      "cell_type": "code",
      "metadata": {
        "ExecuteTime": {
          "end_time": "2019-10-19T13:37:27.003238Z",
          "start_time": "2019-10-19T13:37:26.994262Z"
        },
        "id": "zCguoiJoSbHr",
        "outputId": "f5f5a19a-2b07-4f34-9bd9-65f9334f0335"
      },
      "source": [
        "%%script false \n",
        "segemets = sorted(segements, key = lambda x: x['timestamp'].values[0])"
      ],
      "execution_count": null,
      "outputs": [
        {
          "output_type": "stream",
          "text": [
            "Couldn't find program: 'false'\n"
          ],
          "name": "stdout"
        }
      ]
    },
    {
      "cell_type": "code",
      "metadata": {
        "ExecuteTime": {
          "end_time": "2019-10-19T13:37:27.013228Z",
          "start_time": "2019-10-19T13:37:27.005236Z"
        },
        "id": "c4IyM7M5SbHr",
        "outputId": "7d01fb99-55a0-4120-acab-b40ecfbe47e4"
      },
      "source": [
        "%%script false \n",
        "for ind, val in enumerate(segements):\n",
        "    print('num fo records:{:10d}\\t timespan:{:10.3f} h'.format(len(val), (val['timestamp'].values[-1] - val['timestamp'].values[0])/3600), end = '\\t')\n",
        "    if ind > 0 :\n",
        "        print('timespan (successive split):{:10.3f} h'.format((segements[ind]['timestamp'].values[0] - segements[ind-1]['timestamp'].values[-1])/3600))\n",
        "    else:\n",
        "        print()"
      ],
      "execution_count": null,
      "outputs": [
        {
          "output_type": "stream",
          "text": [
            "Couldn't find program: 'false'\n"
          ],
          "name": "stdout"
        }
      ]
    },
    {
      "cell_type": "markdown",
      "metadata": {
        "id": "hMsiE28GSbHs"
      },
      "source": [
        "#### what if sort by timestamp"
      ]
    },
    {
      "cell_type": "code",
      "metadata": {
        "ExecuteTime": {
          "end_time": "2019-10-19T13:37:27.036155Z",
          "start_time": "2019-10-19T13:37:27.014210Z"
        },
        "id": "sbwZ8DWvSbHs"
      },
      "source": [
        "data_sorted = data.sort_values(by = 'timestamp', axis = 0,  ascending=True, inplace = False)"
      ],
      "execution_count": null,
      "outputs": []
    },
    {
      "cell_type": "code",
      "metadata": {
        "ExecuteTime": {
          "end_time": "2019-10-19T13:37:27.043165Z",
          "start_time": "2019-10-19T13:37:27.038147Z"
        },
        "id": "awXghTkDSbHs"
      },
      "source": [
        "assert data_sorted['timestamp'].is_monotonic_increasing == True"
      ],
      "execution_count": null,
      "outputs": []
    },
    {
      "cell_type": "code",
      "metadata": {
        "ExecuteTime": {
          "end_time": "2019-10-19T13:37:30.710975Z",
          "start_time": "2019-10-19T13:37:27.044129Z"
        },
        "id": "4SbzfPheSbHs",
        "outputId": "a0e66d3f-5c0a-44ae-e16b-04f4b3ff4465"
      },
      "source": [
        "trips = []\n",
        "i = 0\n",
        "for j in range(1,len(data_sorted)):\n",
        "    if data_sorted['timestamp'][j]  - data_sorted['timestamp'][j-1] <= 10*60:\n",
        "        continue\n",
        "    trips.append(data_sorted[i:j])\n",
        "    i = j\n",
        "print(len(trips))"
      ],
      "execution_count": null,
      "outputs": [
        {
          "output_type": "stream",
          "text": [
            "197\n"
          ],
          "name": "stdout"
        }
      ]
    },
    {
      "cell_type": "code",
      "metadata": {
        "ExecuteTime": {
          "end_time": "2019-10-19T13:37:31.617048Z",
          "start_time": "2019-10-19T13:37:30.712933Z"
        },
        "id": "IA6sdlg4SbHt",
        "outputId": "e82ab6e9-b558-4e4e-eaa9-d9ea5b5c4ff0"
      },
      "source": [
        "segements = []\n",
        "for trip in trips:\n",
        "    i = 0\n",
        "    for j in range(1, len(trip)):\n",
        "        if trip['mode'].values[j] == trip['mode'].values[j-1]:\n",
        "            continue\n",
        "        segements.append(trip[i:j])\n",
        "        i = j\n",
        "print(len(segements))\n",
        "for i in segements:\n",
        "    assert i['mode'].nunique() == 1"
      ],
      "execution_count": null,
      "outputs": [
        {
          "output_type": "stream",
          "text": [
            "208\n"
          ],
          "name": "stdout"
        }
      ]
    },
    {
      "cell_type": "markdown",
      "metadata": {
        "id": "IcpHbJVtSbHt"
      },
      "source": [
        "#### calculate the speed, acceleration, jerk, bearing rate"
      ]
    },
    {
      "cell_type": "markdown",
      "metadata": {
        "id": "BVZnLTA_SbHt"
      },
      "source": [
        "speed, acceleration, jerk:\n",
        "\n",
        "\\begin{array}{l}{S_{p_{1}}=\\frac{\\text {Vincenty}\\left(P_{1}, P_{2}\\right)}{\\Delta t}} \\\\ {A_{p_{1}}=\\frac{S_{p_{2}}-S_{p_{1}}}{\\Delta t}} \\\\ {J_{p_{1}}=\\frac{A_{p_{2}}-A_{p_{1}}}{\\Delta t}}\\end{array}\n",
        "\n",
        "Bearing Rate:\n",
        "\n",
        "\\begin{array}{l}{y=sine\\left[p_{2}(\\operatorname{long})-p_{1}(\\operatorname{long})\\right] * cosine\\left[p_{2}(\\operatorname{lat})\\right]} \\\\ {x=cosine\\left[p_{1}(\\operatorname{lat})\\right] * sine \\left[p_{2}(\\operatorname{lat})\\right]- sine\\left[p_{1}(\\operatorname{lat})\\right] * cosine\\left[p_{2}(\\operatorname{lat})\\right] * cosine\\left[p_{2}(\\operatorname{long})-p_{1}(\\operatorname{long})\\right]} \\\\ {\\operatorname{Bearing}_{\\left(p_{1}\\right)}=\\arctan (y, x)} \\\\ {B R_{\\left(p_{1}\\right)}=\\left|\\operatorname{Bearing}_{\\left(p_{2}\\right)}-\\operatorname{Bearing}_{\\left(p_{1}\\right)}\\right|}\\end{array}\n",
        "\n",
        "![image.png](attachment:image.png)"
      ]
    },
    {
      "cell_type": "code",
      "metadata": {
        "ExecuteTime": {
          "end_time": "2019-10-19T13:47:38.661729Z",
          "start_time": "2019-10-19T13:46:01.130830Z"
        },
        "id": "aEvGBWJASbHt"
      },
      "source": [
        "segements_4d = []\n",
        "from geopy.distance import vincenty, geodesic\n",
        "segements_4d = []\n",
        "for segement in segements:\n",
        "    segement_4d = pd.DataFrame(data = None, columns = ['distance','period','speed', 'acceleration', 'jerk', 'bearing_rate'], dtype = 'float64')\n",
        "    for i in range(len(segement)-2):\n",
        "        p1 = (np.radians(segement['latitude'].values[i]), np.radians(segement['longitude'].values[i]))\n",
        "        p2 = (np.radians(segement['latitude'].values[i+1]), np.radians(segement['longitude'].values[i+1]))\n",
        "        p3 = (np.radians(segement['latitude'].values[i+2]), np.radians(segement['longitude'].values[i+2]))\n",
        "        dist = geodesic(p1, p2).meters\n",
        "        #print(dist)\n",
        "        t = segement['timestamp'].values[i+1] - segement['timestamp'].values[i]\n",
        "        speed = dist / t\n",
        "        acceleration = speed / t\n",
        "        jerk = acceleration / t\n",
        "        \n",
        "        # Bearing Rate\n",
        "        y_1 = np.sin(p2[1] - p1[1]) * np.cos(p2[0])\n",
        "        x_1 = np.cos(p1[0])*np.sin(p2[0]) - np.sin(p1[0])*np.cos(p2[0])*np.cos(p2[1] - p1[1])\n",
        "        bearing_p1 = np.degrees(np.arctan2(y_1, x_1))\n",
        "        \n",
        "        y_2 = np.sin(p3[1] - p2[1]) * np.cos(p3[0])\n",
        "        x_2 = np.cos(p2[0])*np.sin(p3[0]) - np.sin(p2[0])*np.cos(p3[0])*np.cos(p3[1] - p2[1])\n",
        "        bearing_p2 = np.degrees(np.arctan2(y_2, x_2))\n",
        "        \n",
        "        bearing_rate = np.abs(bearing_p2 - bearing_p1)\n",
        "\n",
        "        mode = segement['mode'].values[i]\n",
        "        segement_4d.loc[len(segement_4d)] = [dist, t, speed, acceleration, jerk, bearing_rate]\n",
        "    segements_4d.append((segement_4d, segement['mode'].values[0]))"
      ],
      "execution_count": null,
      "outputs": []
    },
    {
      "cell_type": "code",
      "metadata": {
        "ExecuteTime": {
          "end_time": "2019-10-19T13:56:53.385252Z",
          "start_time": "2019-10-19T13:56:53.284493Z"
        },
        "id": "FiBbmeJ6SbHt",
        "outputId": "7c4e4c5b-ea9a-4382-c706-01b2eb9e82ce"
      },
      "source": [
        "for i in segements_4d:\n",
        "    print(np.max(i[0]['period']))"
      ],
      "execution_count": null,
      "outputs": [
        {
          "output_type": "stream",
          "text": [
            "2.0\n",
            "3286.0\n",
            "2.0\n",
            "2.0\n",
            "1272.0\n",
            "9534.0\n",
            "2.0\n",
            "88.0\n",
            "2.0\n",
            "444.0\n",
            "66355.0\n",
            "2.0\n",
            "2.0\n",
            "1964.0\n",
            "167713.0\n",
            "1152.0\n",
            "2.0\n",
            "3886.0\n",
            "112.0\n",
            "1296.0\n",
            "2.0\n",
            "234.0\n",
            "150.0\n",
            "4330.0\n",
            "98.0\n",
            "4484.0\n",
            "2.0\n",
            "104.0\n",
            "2.0\n",
            "1448.0\n",
            "58221.0\n",
            "500.0\n",
            "180.0\n",
            "116.0\n",
            "1064.0\n",
            "104.0\n",
            "4966.0\n",
            "49104.0\n",
            "6352.0\n",
            "2.0\n",
            "2.0\n",
            "2.0\n",
            "278.0\n",
            "72289.0\n",
            "88.0\n",
            "138856.0\n",
            "420.0\n",
            "22.0\n",
            "4918.0\n",
            "81079.0\n",
            "2192.0\n",
            "96124.0\n",
            "5.0\n",
            "5.0\n",
            "5.0\n",
            "1811.0\n",
            "235339.0\n",
            "1370.0\n",
            "410.0\n",
            "1045.0\n",
            "19104.0\n",
            "380.0\n",
            "1055.0\n",
            "5.0\n",
            "6921.0\n",
            "10.0\n",
            "265.0\n",
            "5.0\n",
            "5.0\n",
            "270.0\n",
            "113928.0\n",
            "800.0\n",
            "5.0\n",
            "640.0\n",
            "6645.0\n",
            "15.0\n",
            "5.0\n",
            "152779.0\n",
            "15.0\n",
            "5878.0\n",
            "880.0\n",
            "595.0\n",
            "5.0\n",
            "10.0\n",
            "nan\n",
            "205.0\n",
            "82774.0\n",
            "5.0\n",
            "64404.0\n",
            "3860.0\n",
            "5.0\n",
            "5.0\n",
            "25.0\n",
            "5.0\n",
            "4915.0\n",
            "25.0\n",
            "108237.0\n",
            "10.0\n",
            "285.0\n",
            "325.0\n",
            "5.0\n",
            "360.0\n",
            "11060.0\n",
            "nan\n",
            "50.0\n",
            "460.0\n",
            "32213.0\n",
            "8000.0\n",
            "43608.0\n",
            "1475.0\n",
            "4020.0\n",
            "1205.0\n",
            "5.0\n",
            "5.0\n",
            "5.0\n",
            "405.0\n",
            "5.0\n",
            "135.0\n",
            "5.0\n",
            "985.0\n",
            "15.0\n",
            "1135.0\n",
            "80.0\n",
            "3540.0\n",
            "13277.0\n",
            "2210.0\n",
            "1380.0\n",
            "5.0\n",
            "5.0\n",
            "865.0\n",
            "80141.0\n",
            "5.0\n",
            "5.0\n",
            "12500.0\n",
            "5.0\n",
            "5.0\n",
            "5.0\n",
            "5.0\n",
            "500.0\n",
            "910.0\n",
            "5.0\n",
            "550.0\n",
            "61838.0\n",
            "1310.0\n",
            "1415.0\n",
            "10365.0\n",
            "205.0\n",
            "1395.0\n",
            "5.0\n",
            "5.0\n",
            "5.0\n",
            "5.0\n",
            "450.0\n",
            "5.0\n",
            "110.0\n",
            "100.0\n",
            "385.0\n",
            "5.0\n",
            "2395.0\n",
            "5.0\n",
            "5.0\n",
            "360.0\n",
            "4557.0\n",
            "50.0\n",
            "nan\n",
            "25.0\n",
            "5.0\n",
            "515.0\n",
            "2285.0\n",
            "54120.0\n",
            "9176.0\n",
            "5.0\n",
            "320.0\n",
            "5.0\n",
            "25.0\n",
            "5.0\n",
            "60.0\n",
            "5.0\n",
            "5.0\n",
            "250.0\n",
            "30.0\n",
            "6485.0\n",
            "2240.0\n",
            "225.0\n",
            "5.0\n",
            "800.0\n",
            "142.0\n",
            "2.0\n",
            "457.0\n",
            "5.0\n",
            "1065.0\n",
            "325.0\n",
            "1445.0\n",
            "5.0\n",
            "5.0\n",
            "295.0\n",
            "181358.0\n",
            "10207.0\n",
            "46985.0\n",
            "5.0\n",
            "nan\n",
            "5.0\n",
            "5.0\n",
            "57665.0\n",
            "1972.0\n",
            "151410.0\n",
            "5.0\n",
            "5.0\n"
          ],
          "name": "stdout"
        }
      ]
    },
    {
      "cell_type": "code",
      "metadata": {
        "ExecuteTime": {
          "end_time": "2019-10-19T13:49:23.022067Z",
          "start_time": "2019-10-19T13:49:22.990187Z"
        },
        "id": "Wl25zjtGSbHu",
        "outputId": "79f8df5c-de06-47f1-8013-7429daac2c61"
      },
      "source": [
        "print(segements_4d[6][1])\n",
        "segements_4d[6][0].describe()"
      ],
      "execution_count": null,
      "outputs": [
        {
          "output_type": "stream",
          "text": [
            "1\n"
          ],
          "name": "stdout"
        },
        {
          "output_type": "execute_result",
          "data": {
            "text/html": [
              "<div>\n",
              "<style scoped>\n",
              "    .dataframe tbody tr th:only-of-type {\n",
              "        vertical-align: middle;\n",
              "    }\n",
              "\n",
              "    .dataframe tbody tr th {\n",
              "        vertical-align: top;\n",
              "    }\n",
              "\n",
              "    .dataframe thead th {\n",
              "        text-align: right;\n",
              "    }\n",
              "</style>\n",
              "<table border=\"1\" class=\"dataframe\">\n",
              "  <thead>\n",
              "    <tr style=\"text-align: right;\">\n",
              "      <th></th>\n",
              "      <th>distance</th>\n",
              "      <th>period</th>\n",
              "      <th>speed</th>\n",
              "      <th>acceleration</th>\n",
              "      <th>jerk</th>\n",
              "      <th>bearing_rate</th>\n",
              "    </tr>\n",
              "  </thead>\n",
              "  <tbody>\n",
              "    <tr>\n",
              "      <td>count</td>\n",
              "      <td>15.000000</td>\n",
              "      <td>15.0</td>\n",
              "      <td>15.000000</td>\n",
              "      <td>15.000000</td>\n",
              "      <td>15.000000</td>\n",
              "      <td>1.500000e+01</td>\n",
              "    </tr>\n",
              "    <tr>\n",
              "      <td>mean</td>\n",
              "      <td>0.016045</td>\n",
              "      <td>2.0</td>\n",
              "      <td>0.008023</td>\n",
              "      <td>0.004011</td>\n",
              "      <td>0.002006</td>\n",
              "      <td>5.327608e+01</td>\n",
              "    </tr>\n",
              "    <tr>\n",
              "      <td>std</td>\n",
              "      <td>0.013876</td>\n",
              "      <td>0.0</td>\n",
              "      <td>0.006938</td>\n",
              "      <td>0.003469</td>\n",
              "      <td>0.001735</td>\n",
              "      <td>7.341828e+01</td>\n",
              "    </tr>\n",
              "    <tr>\n",
              "      <td>min</td>\n",
              "      <td>0.000000</td>\n",
              "      <td>2.0</td>\n",
              "      <td>0.000000</td>\n",
              "      <td>0.000000</td>\n",
              "      <td>0.000000</td>\n",
              "      <td>2.616282e-07</td>\n",
              "    </tr>\n",
              "    <tr>\n",
              "      <td>25%</td>\n",
              "      <td>0.006624</td>\n",
              "      <td>2.0</td>\n",
              "      <td>0.003312</td>\n",
              "      <td>0.001656</td>\n",
              "      <td>0.000828</td>\n",
              "      <td>8.336996e+00</td>\n",
              "    </tr>\n",
              "    <tr>\n",
              "      <td>50%</td>\n",
              "      <td>0.009714</td>\n",
              "      <td>2.0</td>\n",
              "      <td>0.004857</td>\n",
              "      <td>0.002428</td>\n",
              "      <td>0.001214</td>\n",
              "      <td>1.323696e+01</td>\n",
              "    </tr>\n",
              "    <tr>\n",
              "      <td>75%</td>\n",
              "      <td>0.029534</td>\n",
              "      <td>2.0</td>\n",
              "      <td>0.014767</td>\n",
              "      <td>0.007384</td>\n",
              "      <td>0.003692</td>\n",
              "      <td>7.740672e+01</td>\n",
              "    </tr>\n",
              "    <tr>\n",
              "      <td>max</td>\n",
              "      <td>0.044119</td>\n",
              "      <td>2.0</td>\n",
              "      <td>0.022059</td>\n",
              "      <td>0.011030</td>\n",
              "      <td>0.005515</td>\n",
              "      <td>2.503253e+02</td>\n",
              "    </tr>\n",
              "  </tbody>\n",
              "</table>\n",
              "</div>"
            ],
            "text/plain": [
              "        distance  period      speed  acceleration       jerk  bearing_rate\n",
              "count  15.000000    15.0  15.000000     15.000000  15.000000  1.500000e+01\n",
              "mean    0.016045     2.0   0.008023      0.004011   0.002006  5.327608e+01\n",
              "std     0.013876     0.0   0.006938      0.003469   0.001735  7.341828e+01\n",
              "min     0.000000     2.0   0.000000      0.000000   0.000000  2.616282e-07\n",
              "25%     0.006624     2.0   0.003312      0.001656   0.000828  8.336996e+00\n",
              "50%     0.009714     2.0   0.004857      0.002428   0.001214  1.323696e+01\n",
              "75%     0.029534     2.0   0.014767      0.007384   0.003692  7.740672e+01\n",
              "max     0.044119     2.0   0.022059      0.011030   0.005515  2.503253e+02"
            ]
          },
          "metadata": {
            "tags": []
          },
          "execution_count": 34
        }
      ]
    },
    {
      "cell_type": "markdown",
      "metadata": {
        "id": "CzRW_bV7SbHu"
      },
      "source": [
        "#### maxium speed,acceleration thresthold"
      ]
    },
    {
      "cell_type": "markdown",
      "metadata": {
        "id": "h2_QLf4tSbHu"
      },
      "source": [
        "![image.png](attachment:image.png)"
      ]
    },
    {
      "cell_type": "code",
      "metadata": {
        "id": "5OCFVlqqSbHy"
      },
      "source": [
        ""
      ],
      "execution_count": null,
      "outputs": []
    },
    {
      "cell_type": "markdown",
      "metadata": {
        "id": "qLcGr_IuSbHy"
      },
      "source": [
        "#### number of records threshold: 200"
      ]
    },
    {
      "cell_type": "code",
      "metadata": {
        "ExecuteTime": {
          "end_time": "2019-10-19T14:02:29.328894Z",
          "start_time": "2019-10-19T14:02:29.268747Z"
        },
        "id": "jLDPuGeuSbHz"
      },
      "source": [
        "segements_4d = [x for x in segements_4d if len(x[0]) >= 200]  # remove segements less than 250 records\n",
        "data_4d = []\n",
        "for segement_4d in segements_4d:\n",
        "    i = 0\n",
        "    for j in range(1, len(segement_4d[0])):\n",
        "        if j % 200 == 0:                                    # 250 records per segement\n",
        "            data_4d.append((segement_4d[0][i:j], segement_4d[1])) \n",
        "            i = j\n",
        "for i in data_4d:\n",
        "    assert len(i[0]) == 200"
      ],
      "execution_count": null,
      "outputs": []
    },
    {
      "cell_type": "markdown",
      "metadata": {
        "id": "629BVaHcSbHz"
      },
      "source": [
        "###  Data Preparation\n"
      ]
    },
    {
      "cell_type": "markdown",
      "metadata": {
        "ExecuteTime": {
          "end_time": "2019-10-20T18:00:45.924058Z",
          "start_time": "2019-10-20T18:00:09.269171Z"
        },
        "id": "tj7gUYjMSbHz"
      },
      "source": [
        "As we have tested the data clean on one user, the result is correct and reliable. Therefore I will use `numpy.ndarray` to scale above process to large number of users."
      ]
    },
    {
      "cell_type": "code",
      "metadata": {
        "ExecuteTime": {
          "end_time": "2019-10-20T18:00:45.924058Z",
          "start_time": "2019-10-20T18:00:09.269171Z"
        },
        "id": "OquHu45_SbH0"
      },
      "source": [
        "import os\n",
        "from geopy.distance import vincenty, geodesic\n",
        "x = [] #np.empty((1, 1, 200, 4)) # (segements, width, length, channel)\n",
        "y = []#np.empty((1))\n",
        "for path,directory,file in os.walk('numpyL/user'): \n",
        "    for ind, filename in enumerate(file):\n",
        "        # sort by timestamp\n",
        "        user_data = np.load('numpyL/user/' + filename) # shape (row, col)\n",
        "        user_data_sorted = user_data[user_data[:,4].argsort()]\n",
        "        #assert user_data_sorted[:,4].is_monotonic_increasing == True\n",
        "\n",
        "        # split into trips\n",
        "        trips = [] # (trip, row, col)\n",
        "        i = 0\n",
        "        for j in range(1,len(user_data_sorted)):\n",
        "            if user_data_sorted[j,4] - user_data_sorted[j-1,4] <= 600:\n",
        "                continue\n",
        "            trips.append(user_data_sorted[i:j,:])\n",
        "            i = j\n",
        "        segements = [] #np.empty((1,1,6)) # (segement, row, col)\n",
        "        for trip in trips:\n",
        "            i = 0\n",
        "            for j in range(1, len(trip)):\n",
        "                if trip[j,5] == trip[j-1,5]:\n",
        "                    continue\n",
        "                segements.append(trip[i:j,:])\n",
        "                i = j\n",
        "        \n",
        "        # calculate channel data\n",
        "        segements_4d = []#np.empty((1,1,4))\n",
        "        target = []#np.empty((1))\n",
        "        for segement in segements:\n",
        "            segement_4d = np.empty((1,4))\n",
        "            for i in range(len(segement)-2):\n",
        "                p1 = (np.radians(segement[i,1]), np.radians(segement[i,2]))\n",
        "                p2 = (np.radians(segement[i+1,1]), np.radians(segement[i+1,2]))\n",
        "                p3 = (np.radians(segement[i+2,1]), np.radians(segement[i+2,2]))\n",
        "                dist = geodesic(p1, p2).meters\n",
        "                #print(dist)\n",
        "                t = segement[i+1,4] - segement[i,4]\n",
        "                if t == 0:\n",
        "                    continue\n",
        "                speed = dist / t\n",
        "                acceleration = speed / t\n",
        "                jerk = acceleration / t\n",
        "\n",
        "                # Bearing Rate\n",
        "                y_1 = np.sin(p2[1] - p1[1]) * np.cos(p2[0])\n",
        "                x_1 = np.cos(p1[0])*np.sin(p2[0]) - np.sin(p1[0])*np.cos(p2[0])*np.cos(p2[1] - p1[1])\n",
        "                bearing_p1 = np.degrees(np.arctan2(y_1, x_1))\n",
        "\n",
        "                y_2 = np.sin(p3[1] - p2[1]) * np.cos(p3[0])\n",
        "                x_2 = np.cos(p2[0])*np.sin(p3[0]) - np.sin(p2[0])*np.cos(p3[0])*np.cos(p3[1] - p2[1])\n",
        "                bearing_p2 = np.degrees(np.arctan2(y_2, x_2))\n",
        "\n",
        "                bearing_rate = np.abs(bearing_p2 - bearing_p1)\n",
        "\n",
        "                mode = segement[i,5]\n",
        "                segement_4d = np.concatenate((segement_4d,np.array([speed, acceleration, jerk, bearing_rate]).reshape((1,4))))\n",
        "            segements_4d.append(segement_4d)\n",
        "            target.append(segement[0,5])\n",
        "        \n",
        "        # split into 200 per segement\n",
        "        segements_4d_200 = [i for i in segements_4d if len(i) >= 200]  # remove segements less than 250 records\n",
        "\n",
        "        for ind, segement_4d in enumerate(segements_4d_200):\n",
        "            i = 0\n",
        "            for j in range(1, len(segement_4d)):\n",
        "                if j % 200 == 0:                                    # 200 records per segement\n",
        "                    x.append(segement_4d[i:j,:])\n",
        "                    y.append(target[ind])\n",
        "                    i = j"
      ],
      "execution_count": null,
      "outputs": []
    },
    {
      "cell_type": "code",
      "metadata": {
        "ExecuteTime": {
          "end_time": "2019-10-20T18:01:46.474767Z",
          "start_time": "2019-10-20T18:01:46.465804Z"
        },
        "id": "xuLYkHEtSbH0",
        "outputId": "704c43ca-a3bc-47cb-f81e-cbfe69cae9e7"
      },
      "source": [
        "print(len(x), len(y))"
      ],
      "execution_count": null,
      "outputs": [
        {
          "output_type": "stream",
          "text": [
            "706 706\n"
          ],
          "name": "stdout"
        }
      ]
    }
  ]
}